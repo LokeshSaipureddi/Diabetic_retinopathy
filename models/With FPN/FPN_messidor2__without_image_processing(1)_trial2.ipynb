{
  "nbformat": 4,
  "nbformat_minor": 0,
  "metadata": {
    "accelerator": "GPU",
    "colab": {
      "name": "FPN_messidor2 _without image processing(1)_trial2.ipynb",
      "provenance": [],
      "collapsed_sections": [],
      "include_colab_link": true
    },
    "kernelspec": {
      "display_name": "Python 3",
      "name": "python3"
    },
    "language_info": {
      "name": "python"
    }
  },
  "cells": [
    {
      "cell_type": "markdown",
      "metadata": {
        "id": "view-in-github",
        "colab_type": "text"
      },
      "source": [
        "<a href=\"https://colab.research.google.com/github/LokeshSaipureddi/Diabetic_retinopathy/blob/LokeshSaipureddi-patch-1/FPN_messidor2__without_image_processing(1)_trial2.ipynb\" target=\"_parent\"><img src=\"https://colab.research.google.com/assets/colab-badge.svg\" alt=\"Open In Colab\"/></a>"
      ]
    },
    {
      "cell_type": "code",
      "metadata": {
        "colab": {
          "base_uri": "https://localhost:8080/"
        },
        "id": "wEBbHS7zN0X2",
        "outputId": "41b8c85a-339d-4d28-8989-3e3e25654c86"
      },
      "source": [
        "%tensorflow_version 2.x\n",
        "import tensorflow as tf\n",
        "device_name = tf.test.gpu_device_name()\n",
        "if device_name != '/device:GPU:0':\n",
        "  raise SystemError('GPU device not found')\n",
        "print('Found GPU at: {}'.format(device_name))"
      ],
      "execution_count": null,
      "outputs": [
        {
          "output_type": "stream",
          "text": [
            "Found GPU at: /device:GPU:0\n"
          ],
          "name": "stdout"
        }
      ]
    },
    {
      "cell_type": "code",
      "metadata": {
        "id": "SchA9hdXLExX"
      },
      "source": [
        "!pip install -q kaggle"
      ],
      "execution_count": null,
      "outputs": []
    },
    {
      "cell_type": "code",
      "metadata": {
        "id": "XmALehcVCnkU"
      },
      "source": [
        "import tensorflow as tf"
      ],
      "execution_count": null,
      "outputs": []
    },
    {
      "cell_type": "code",
      "metadata": {
        "colab": {
          "base_uri": "https://localhost:8080/"
        },
        "id": "VkhJ04gMAF5X",
        "outputId": "c9bfbd2b-8c97-4c39-dafb-4c1843ab6003"
      },
      "source": [
        "!pip install pydot"
      ],
      "execution_count": null,
      "outputs": [
        {
          "output_type": "stream",
          "text": [
            "Requirement already satisfied: pydot in /usr/local/lib/python3.7/dist-packages (1.3.0)\n",
            "Requirement already satisfied: pyparsing>=2.1.4 in /usr/local/lib/python3.7/dist-packages (from pydot) (2.4.7)\n"
          ],
          "name": "stdout"
        }
      ]
    },
    {
      "cell_type": "code",
      "metadata": {
        "colab": {
          "base_uri": "https://localhost:8080/"
        },
        "id": "hxYbaZ8nCl0d",
        "outputId": "be1ccf89-3f4a-4a82-a0e1-1099aa267d6e"
      },
      "source": [
        "print(tf.__version__)"
      ],
      "execution_count": null,
      "outputs": [
        {
          "output_type": "stream",
          "text": [
            "2.6.0\n"
          ],
          "name": "stdout"
        }
      ]
    },
    {
      "cell_type": "code",
      "metadata": {
        "id": "ziW6mP19L5Qe"
      },
      "source": [
        "!mkdir -p ~/.kaggle\n",
        "!cp kaggle.json ~/.kaggle/"
      ],
      "execution_count": null,
      "outputs": []
    },
    {
      "cell_type": "code",
      "metadata": {
        "id": "1feUgo1FL85S"
      },
      "source": [
        "!chmod 600 ~/.kaggle/kaggle.json"
      ],
      "execution_count": null,
      "outputs": []
    },
    {
      "cell_type": "code",
      "metadata": {
        "colab": {
          "base_uri": "https://localhost:8080/"
        },
        "id": "IYVBqRZXL_1f",
        "outputId": "c4ffc0e6-0a76-400f-833d-3ea680698b45"
      },
      "source": [
        "!kaggle datasets download -d 'xyaustin/messidor2'"
      ],
      "execution_count": null,
      "outputs": [
        {
          "output_type": "stream",
          "text": [
            "Downloading messidor2.zip to /content\n",
            "100% 2.29G/2.29G [00:16<00:00, 176MB/s]\n",
            "100% 2.29G/2.29G [00:16<00:00, 147MB/s]\n"
          ],
          "name": "stdout"
        }
      ]
    },
    {
      "cell_type": "code",
      "metadata": {
        "id": "FNjlsJ6rMRCO"
      },
      "source": [
        "!mkdir messidor2"
      ],
      "execution_count": null,
      "outputs": []
    },
    {
      "cell_type": "code",
      "metadata": {
        "id": "ajqLRXlAOpBN"
      },
      "source": [
        "! unzip messidor2.zip -d messidor2"
      ],
      "execution_count": null,
      "outputs": []
    },
    {
      "cell_type": "code",
      "metadata": {
        "id": "P7Lcm1FcMEL_"
      },
      "source": [
        "import numpy as np\n",
        "import pandas as pd\n",
        "import tensorflow as tf\n",
        "from tensorflow import keras\n",
        "from tensorflow.keras.models import Sequential\n",
        "from tensorflow.keras.models import Model\n",
        "from tensorflow.keras.callbacks import ModelCheckpoint, EarlyStopping\n",
        "from tensorflow.keras.layers import Activation, Dense, Flatten, BatchNormalization, Conv2D, MaxPool2D,Dropout,Input\n",
        "from tensorflow.keras.optimizers import Adam, RMSprop\n",
        "from tensorflow.keras.callbacks import LearningRateScheduler\n",
        "from tensorflow.keras import regularizers\n",
        "from tensorflow.keras.callbacks import EarlyStopping\n",
        "from tensorflow.keras.metrics import categorical_crossentropy\n",
        "from tensorflow.keras.losses import SparseCategoricalCrossentropy\n",
        "from tensorflow.keras.preprocessing.image import ImageDataGenerator\n",
        "from tensorflow.keras.applications.resnet50 import preprocess_input\n",
        "from tensorflow.keras.metrics import AUC,Precision,Recall\n",
        "from sklearn.model_selection import KFold\n",
        "import math\n",
        "from sklearn.metrics import confusion_matrix\n",
        "from matplotlib import pyplot as plt\n",
        "import cv2\n",
        "import itertools\n",
        "import os\n",
        "import random\n",
        "import shutil\n",
        "import glob"
      ],
      "execution_count": null,
      "outputs": []
    },
    {
      "cell_type": "code",
      "metadata": {
        "id": "4sBTsn5u7i1j"
      },
      "source": [
        "import os\n",
        "os.mkdir(\"/content/messidor2/messidor-2/0\")\n",
        "os.mkdir(\"/content/messidor2/messidor-2/1\")\n",
        "os.mkdir(\"/content/messidor2/messidor-2/2\")\n",
        "os.mkdir(\"/content/messidor2/messidor-2/3\")\n",
        "os.mkdir(\"/content/messidor2/messidor-2/4\")"
      ],
      "execution_count": null,
      "outputs": []
    },
    {
      "cell_type": "code",
      "metadata": {
        "id": "tNeYUAAPPVx3"
      },
      "source": [
        "import os\n",
        "os.remove(\"/content/messidor2/messidor-2/images/20060411_58550_0200_PP.png\")\n",
        "os.remove(\"/content/messidor2/messidor-2/images/IM002385.jpg\")\n",
        "os.remove(\"/content/messidor2/messidor-2/images/IM003718.jpg\")\n",
        "os.remove(\"/content/messidor2/messidor-2/images/IM004176.jpg\")\n",
        "# importing pandas module\n"
      ],
      "execution_count": null,
      "outputs": []
    },
    {
      "cell_type": "code",
      "metadata": {
        "id": "I6tqcPHLQ6kF",
        "colab": {
          "base_uri": "https://localhost:8080/",
          "height": 52
        },
        "outputId": "871b3f7a-8caf-450d-e214-267d945af5db"
      },
      "source": [
        "import pandas as pd\n",
        "\n",
        "# making data frame from csv file\n",
        "data = pd.read_csv(\"/content/messidor2/messidor-2/messidor_data.csv\")\n",
        "\n",
        "# making new data frame with dropped NA values\n",
        "data.dropna(subset=[\"adjudicated_dr_grade\"],inplace=True)\n",
        "data.to_csv('messidor_data2.csv')\n",
        "# comparing sizes of data frames\n",
        "print(\"Old data frame length:\", len(data))\n",
        "\n",
        "os.remove(\"/content/messidor2/messidor-2/messidor_data.csv\")\n",
        "import shutil\n",
        "shutil.move(\"/content/messidor_data2.csv\",\"/content/messidor2/messidor-2\")\n"
      ],
      "execution_count": null,
      "outputs": [
        {
          "output_type": "stream",
          "text": [
            "Old data frame length: 1744\n"
          ],
          "name": "stdout"
        },
        {
          "output_type": "execute_result",
          "data": {
            "application/vnd.google.colaboratory.intrinsic+json": {
              "type": "string"
            },
            "text/plain": [
              "'/content/messidor2/messidor-2/messidor_data2.csv'"
            ]
          },
          "metadata": {},
          "execution_count": 13
        }
      ]
    },
    {
      "cell_type": "code",
      "metadata": {
        "id": "QKUJjqEJ6Ktl"
      },
      "source": [
        "import shutil, os\n",
        "import pandas as pd\n",
        "\n",
        "labels = pd.read_csv(\"/content/messidor2/messidor-2/messidor_data2.csv\")\n",
        "labels = labels.sort_values('adjudicated_dr_grade')"
      ],
      "execution_count": null,
      "outputs": []
    },
    {
      "cell_type": "code",
      "metadata": {
        "id": "dZXjQ51m-27U",
        "colab": {
          "base_uri": "https://localhost:8080/"
        },
        "outputId": "55c443fe-7e96-413c-dc45-7eeda1eef048"
      },
      "source": [
        "class_names = list(labels.adjudicated_dr_grade.unique())\n",
        "print(class_names)"
      ],
      "execution_count": null,
      "outputs": [
        {
          "output_type": "stream",
          "text": [
            "[0.0, 1.0, 2.0, 3.0, 4.0]\n"
          ],
          "name": "stdout"
        }
      ]
    },
    {
      "cell_type": "code",
      "metadata": {
        "id": "GoBSawZh98kQ",
        "colab": {
          "base_uri": "https://localhost:8080/"
        },
        "outputId": "9dc9910e-d837-4c3b-941f-0ca2f78530d9"
      },
      "source": [
        "class_names = list(labels.adjudicated_dr_grade.unique())\n",
        "A = [int(class_names) for class_names in class_names]\n",
        "print(A)"
      ],
      "execution_count": null,
      "outputs": [
        {
          "output_type": "stream",
          "text": [
            "[0, 1, 2, 3, 4]\n"
          ],
          "name": "stdout"
        }
      ]
    },
    {
      "cell_type": "code",
      "metadata": {
        "id": "b4aAdfPl9tai"
      },
      "source": [
        "for c in A: # Category Name\n",
        "  for i in list(labels[labels['adjudicated_dr_grade']==c]['image_id']): # Image Id\n",
        "    get_image = os.path.join('/content/messidor2/messidor-2/images/', i) # Path to Images\n",
        "    move_image_to_cat = shutil.copy(get_image, '/content/messidor2/messidor-2/'+str(c))"
      ],
      "execution_count": null,
      "outputs": []
    },
    {
      "cell_type": "code",
      "metadata": {
        "id": "M9YbOmryiCXg"
      },
      "source": [
        "ls1=os.listdir('/content/messidor2/messidor-2/1')\n",
        "ls2=os.listdir('/content/messidor2/messidor-2/2')\n",
        "ls3=os.listdir('/content/messidor2/messidor-2/3')\n",
        "ls4=os.listdir('/content/messidor2/messidor-2/4')\n",
        "os.mkdir('/content/messidor2/messidor-2/comb1234')"
      ],
      "execution_count": null,
      "outputs": []
    },
    {
      "cell_type": "code",
      "metadata": {
        "id": "MtbhaRHFiCdS"
      },
      "source": [
        "path='/content/messidor2/messidor-2'\n",
        "dest='/content/messidor2/messidor-2/comb1234'\n",
        "for i in ls1:\n",
        "  img_scr=path+'/1/'+str(i)\n",
        "  shutil.move(img_scr,dest)"
      ],
      "execution_count": null,
      "outputs": []
    },
    {
      "cell_type": "code",
      "metadata": {
        "id": "0VGqUlD5iCkJ"
      },
      "source": [
        "path='/content/messidor2/messidor-2'\n",
        "dest='/content/messidor2/messidor-2/comb1234'\n",
        "for i in ls2:\n",
        "  img_scr=path+'/2/'+str(i)\n",
        "  shutil.move(img_scr,dest)"
      ],
      "execution_count": null,
      "outputs": []
    },
    {
      "cell_type": "code",
      "metadata": {
        "id": "Ldjp8eoHiClq"
      },
      "source": [
        "path='/content/messidor2/messidor-2'\n",
        "dest='/content/messidor2/messidor-2/comb1234'\n",
        "for i in ls3:\n",
        "  img_scr=path+'/3/'+str(i)\n",
        "  shutil.move(img_scr,dest)"
      ],
      "execution_count": null,
      "outputs": []
    },
    {
      "cell_type": "code",
      "metadata": {
        "id": "8YSFSQnRiCsS"
      },
      "source": [
        "path='/content/messidor2/messidor-2'\n",
        "dest='/content/messidor2/messidor-2/comb1234'\n",
        "for i in ls4:\n",
        "  img_scr=path+'/4/'+str(i)\n",
        "  shutil.move(img_scr,dest)"
      ],
      "execution_count": null,
      "outputs": []
    },
    {
      "cell_type": "code",
      "metadata": {
        "id": "7qUNIrDkSf1N"
      },
      "source": [
        "for i in range(1,5):\n",
        "  shutil.rmtree('/content/messidor2/messidor-2/'+str(i))"
      ],
      "execution_count": null,
      "outputs": []
    },
    {
      "cell_type": "code",
      "metadata": {
        "id": "kpCb4WpPSpI7"
      },
      "source": [
        "os.rename('/content/messidor2/messidor-2/comb1234','/content/messidor2/messidor-2/1')"
      ],
      "execution_count": null,
      "outputs": []
    },
    {
      "cell_type": "code",
      "metadata": {
        "id": "MhwmcLcAlUhy"
      },
      "source": [
        "original_data_path = \"/content/messidor2/messidor-2\"\n",
        "train_pct = 0.8\n",
        "test_pct = 0.1\n",
        "val_pct = 0.1\n",
        "\n",
        "if os.path.isdir(\"/content/messidor2/messidor-2/train/0\") is False:\n",
        "    # create folders for the sets\n",
        "    os.mkdir(\"/content/messidor2/messidor-2/train\")\n",
        "    os.mkdir(\"/content/messidor2/messidor-2/test\")\n",
        "    os.mkdir(\"/content/messidor2/messidor-2/validation\")\n",
        "    for i in range(0, 2):\n",
        "        # path to inputs with different classes\n",
        "        num_folder_path = f'{original_data_path}/{i}' \n",
        "        num_files_in_folder = len(os.listdir(num_folder_path))\n",
        "        train_size1 = int(num_files_in_folder * train_pct)\n",
        "        test_size1 = int(num_files_in_folder * test_pct)\n",
        "        val_size = int(num_files_in_folder * val_pct)\n",
        "        train_size = train_size1\n",
        "        test_size = test_size1\n",
        "        os.mkdir(f'/content/messidor2/messidor-2/train/{i}')\n",
        "        os.mkdir(f'/content/messidor2/messidor-2/test/{i}')\n",
        "        os.mkdir(f'/content/messidor2/messidor-2/validation/{i}')\n",
        "        test_samples = random.sample(os.listdir(num_folder_path), test_size)\n",
        "        for file_name in test_samples:\n",
        "            shutil.move((f\"/content/messidor2/messidor-2/{i}/{file_name}\"), f'/content/messidor2/messidor-2/test/{i}')\n",
        "        val_samples = random.sample(os.listdir(num_folder_path), val_size)\n",
        "        for file_name in val_samples:\n",
        "            shutil.move((f\"/content/messidor2/messidor-2/{i}/{file_name}\"), f'/content/messidor2/messidor-2/validation/{i}')    \n",
        "        train_samples = random.sample(os.listdir(num_folder_path), train_size)\n",
        "        for file_name in train_samples:\n",
        "            shutil.move((f\"/content/messidor2/messidor-2/{i}/{file_name}\"), f'/content/messidor2/messidor-2/train/{i}')"
      ],
      "execution_count": null,
      "outputs": []
    },
    {
      "cell_type": "code",
      "metadata": {
        "id": "xE-ENwQnTPHw"
      },
      "source": [
        "train_path=\"/content/messidor2/messidor-2/train\"\n",
        "test_path=\"/content/messidor2/messidor-2/test\"\n",
        "val_path='/content/messidor2/messidor-2/validation'"
      ],
      "execution_count": null,
      "outputs": []
    },
    {
      "cell_type": "code",
      "metadata": {
        "id": "ULiHpFgZJ9Ly"
      },
      "source": [
        "shape=(512,512,1)"
      ],
      "execution_count": null,
      "outputs": []
    },
    {
      "cell_type": "code",
      "metadata": {
        "colab": {
          "base_uri": "https://localhost:8080/"
        },
        "id": "9kEo0gd8TbCL",
        "outputId": "1d6495b2-618e-4065-995d-fe0c941be2ef"
      },
      "source": [
        "CLASS_MODE = \"categorical\"\n",
        "BATCH_SIZE = 16\n",
        "train_batches = ImageDataGenerator(rescale=1./223,\n",
        "                                   featurewise_center=True,\n",
        "    featurewise_std_normalization=True,\n",
        "    rotation_range=20,\n",
        "    width_shift_range=0.2,\n",
        "    height_shift_range=0.2,\n",
        "    horizontal_flip=True,\n",
        "    vertical_flip=True).flow_from_directory(directory = train_path, target_size = shape[:2], batch_size = BATCH_SIZE, class_mode=CLASS_MODE,shuffle=True)\n",
        "val_batches = ImageDataGenerator(rescale=1./223).flow_from_directory(directory = val_path, target_size = shape[:2], batch_size = BATCH_SIZE, class_mode=CLASS_MODE, shuffle=False)\n",
        "test_batches = ImageDataGenerator(rescale=1./223).flow_from_directory(directory = test_path, target_size = shape[:2], batch_size = BATCH_SIZE, class_mode=CLASS_MODE, shuffle=False)"
      ],
      "execution_count": null,
      "outputs": [
        {
          "output_type": "stream",
          "text": [
            "Found 1394 images belonging to 2 classes.\n",
            "Found 173 images belonging to 2 classes.\n",
            "Found 173 images belonging to 2 classes.\n"
          ],
          "name": "stdout"
        }
      ]
    },
    {
      "cell_type": "code",
      "metadata": {
        "colab": {
          "base_uri": "https://localhost:8080/",
          "height": 338
        },
        "id": "FbDMAGHUTlHW",
        "outputId": "daff973c-f77b-4ea2-ff87-065115a3c2ee"
      },
      "source": [
        "plt.figure()\n",
        "f, axarr = plt.subplots(1,3)\n",
        "for i in range (0,3):\n",
        "    random_num = random.randint(0,5)\n",
        "    image = train_batches[random_num]\n",
        "    axarr[i].imshow(image[0][0])\n",
        "    print(np.shape(image[0][0])) "
      ],
      "execution_count": null,
      "outputs": [
        {
          "output_type": "stream",
          "text": [
            "/usr/local/lib/python3.7/dist-packages/keras_preprocessing/image/image_data_generator.py:720: UserWarning: This ImageDataGenerator specifies `featurewise_center`, but it hasn't been fit on any training data. Fit it first by calling `.fit(numpy_data)`.\n",
            "  warnings.warn('This ImageDataGenerator specifies '\n",
            "/usr/local/lib/python3.7/dist-packages/keras_preprocessing/image/image_data_generator.py:728: UserWarning: This ImageDataGenerator specifies `featurewise_std_normalization`, but it hasn't been fit on any training data. Fit it first by calling `.fit(numpy_data)`.\n",
            "  warnings.warn('This ImageDataGenerator specifies '\n"
          ],
          "name": "stderr"
        },
        {
          "output_type": "stream",
          "text": [
            "(512, 512, 3)\n"
          ],
          "name": "stdout"
        },
        {
          "output_type": "stream",
          "text": [
            "Clipping input data to the valid range for imshow with RGB data ([0..1] for floats or [0..255] for integers).\n"
          ],
          "name": "stderr"
        },
        {
          "output_type": "stream",
          "text": [
            "(512, 512, 3)\n"
          ],
          "name": "stdout"
        },
        {
          "output_type": "stream",
          "text": [
            "Clipping input data to the valid range for imshow with RGB data ([0..1] for floats or [0..255] for integers).\n"
          ],
          "name": "stderr"
        },
        {
          "output_type": "stream",
          "text": [
            "(512, 512, 3)\n"
          ],
          "name": "stdout"
        },
        {
          "output_type": "display_data",
          "data": {
            "text/plain": [
              "<Figure size 432x288 with 0 Axes>"
            ]
          },
          "metadata": {}
        },
        {
          "output_type": "display_data",
          "data": {
            "image/png": "[encoded data removed]",
            "text/plain": [
              "<Figure size 432x288 with 3 Axes>"
            ]
          },
          "metadata": {
            "needs_background": "light"
          }
        }
      ]
    },
    {
      "cell_type": "code",
      "metadata": {
        "id": "GIGG0ciqTnM_"
      },
      "source": [
        "IMG_SIZE = (224,224)\n",
        "batch_size = 64\n",
        "epoch = 200"
      ],
      "execution_count": null,
      "outputs": []
    },
    {
      "cell_type": "code",
      "metadata": {
        "colab": {
          "base_uri": "https://localhost:8080/"
        },
        "id": "8xHVR17BWsvh",
        "outputId": "d14a719e-056b-4e19-c33b-871d9890dd1a"
      },
      "source": [
        "!pip install keras_retinanet"
      ],
      "execution_count": null,
      "outputs": [
        {
          "output_type": "stream",
          "text": [
            "Collecting keras_retinanet\n",
            "  Downloading keras-retinanet-1.0.0.tar.gz (71 kB)\n",
            "\u001b[?25l\r\u001b[K     |████▋                           | 10 kB 29.1 MB/s eta 0:00:01\r\u001b[K     |█████████▏                      | 20 kB 22.8 MB/s eta 0:00:01\r\u001b[K     |█████████████▊                  | 30 kB 17.3 MB/s eta 0:00:01\r\u001b[K     |██████████████████▍             | 40 kB 15.6 MB/s eta 0:00:01\r\u001b[K     |███████████████████████         | 51 kB 7.3 MB/s eta 0:00:01\r\u001b[K     |███████████████████████████▌    | 61 kB 8.4 MB/s eta 0:00:01\r\u001b[K     |████████████████████████████████| 71 kB 4.7 MB/s \n",
            "\u001b[?25hCollecting keras-resnet==0.2.0\n",
            "  Downloading keras-resnet-0.2.0.tar.gz (9.3 kB)\n",
            "Requirement already satisfied: six in /usr/local/lib/python3.7/dist-packages (from keras_retinanet) (1.15.0)\n",
            "Requirement already satisfied: scipy in /usr/local/lib/python3.7/dist-packages (from keras_retinanet) (1.4.1)\n",
            "Requirement already satisfied: cython in /usr/local/lib/python3.7/dist-packages (from keras_retinanet) (0.29.24)\n",
            "Requirement already satisfied: Pillow in /usr/local/lib/python3.7/dist-packages (from keras_retinanet) (7.1.2)\n",
            "Requirement already satisfied: opencv-python in /usr/local/lib/python3.7/dist-packages (from keras_retinanet) (4.1.2.30)\n",
            "Requirement already satisfied: progressbar2 in /usr/local/lib/python3.7/dist-packages (from keras_retinanet) (3.38.0)\n",
            "Requirement already satisfied: keras>=2.2.4 in /usr/local/lib/python3.7/dist-packages (from keras-resnet==0.2.0->keras_retinanet) (2.6.0)\n",
            "Requirement already satisfied: numpy>=1.14.5 in /usr/local/lib/python3.7/dist-packages (from opencv-python->keras_retinanet) (1.19.5)\n",
            "Requirement already satisfied: python-utils>=2.3.0 in /usr/local/lib/python3.7/dist-packages (from progressbar2->keras_retinanet) (2.5.6)\n",
            "Building wheels for collected packages: keras-retinanet, keras-resnet\n",
            "  Building wheel for keras-retinanet (setup.py) ... \u001b[?25l\u001b[?25hdone\n",
            "  Created wheel for keras-retinanet: filename=keras_retinanet-1.0.0-cp37-cp37m-linux_x86_64.whl size=163917 sha256=4920a51d00396e5cfe5348da46413c6362cdb695cccd66cc60676a98e126c9f4\n",
            "  Stored in directory: /root/.cache/pip/wheels/55/a1/41/f2dbc08b26549fe00041b9bc25c299f262b0311ad68cc52522\n",
            "  Building wheel for keras-resnet (setup.py) ... \u001b[?25l\u001b[?25hdone\n",
            "  Created wheel for keras-resnet: filename=keras_resnet-0.2.0-py2.py3-none-any.whl size=20486 sha256=8e84d643e3fd7eebd2c9ca0e5c649c9909013a9b86e1c754675cc3fffe664c9f\n",
            "  Stored in directory: /root/.cache/pip/wheels/bd/ef/06/5d65f696360436c3a423020c4b7fd8c558c09ef264a0e6c575\n",
            "Successfully built keras-retinanet keras-resnet\n",
            "Installing collected packages: keras-resnet, keras-retinanet\n",
            "Successfully installed keras-resnet-0.2.0 keras-retinanet-1.0.0\n"
          ],
          "name": "stdout"
        }
      ]
    },
    {
      "cell_type": "code",
      "metadata": {
        "id": "OeVQjYcZ8MEp"
      },
      "source": [
        "import tensorflow \n",
        "from tensorflow import keras\n",
        "import numpy as np\n",
        "import cv2\n",
        "import os\n",
        "import random\n",
        "import shutil\n",
        "import pandas as pd\n",
        "import csv\n",
        "import zipfile\n",
        "from tensorflow.keras import optimizers\n",
        "from tensorflow.keras.models import Sequential,Model\n",
        "from tensorflow.keras.layers import Dropout, Flatten, Dense,Input\n",
        "from tensorflow.keras.applications.resnet_v2 import ResNet50V2\n",
        "from tensorflow.keras.applications.xception import Xception\n",
        "from tensorflow.keras.applications.resnet50 import ResNet50\n",
        "from tensorflow.keras.applications.vgg16 import VGG16\n",
        "from tensorflow.keras.callbacks import ModelCheckpoint\n",
        "from tensorflow.keras.applications.imagenet_utils import preprocess_input\n",
        "from tensorflow.keras import backend as K\n",
        "from tensorflow.keras.preprocessing.image import ImageDataGenerator\n",
        "from tensorflow.keras.initializers import RandomNormal\n",
        "import tensorflow.keras.backend as k\n",
        "from sklearn.utils import shuffle\n",
        "import io\n",
        "from PIL import Image as pil_image\n",
        "from keras_retinanet import layers\n",
        "import tensorflow.keras.backend as k\n",
        "import keras_retinanet\n",
        "from tensorflow.keras.metrics import AUC, Precision, Recall, FalseNegatives, FalsePositives,TrueNegatives,TruePositives, CategoricalCrossentropy"
      ],
      "execution_count": null,
      "outputs": []
    },
    {
      "cell_type": "code",
      "metadata": {
        "id": "PHlKYNB59Ujj"
      },
      "source": [
        "fold_num=1"
      ],
      "execution_count": null,
      "outputs": []
    },
    {
      "cell_type": "code",
      "metadata": {
        "colab": {
          "base_uri": "https://localhost:8080/"
        },
        "id": "fvNWb328qcqP",
        "outputId": "3bbbb2fa-9f20-4689-a7ec-ea5b9d1ae386"
      },
      "source": [
        "k.clear_session() #Clear tensorflow.keras backend \n",
        "try:\n",
        "  os.mkdir('models') #create folder for saving the trained networks\n",
        "except:\n",
        "  pass\n",
        "full_name='ResNet50V2-FPN-fold{}'.format(fold_num)\n",
        "classes_number=2 #Number of classes (normal and COVID-19)\n",
        "input_tensor=Input(shape=(512,512,3))\n",
        "weight_model = ResNet50V2(weights='imagenet', include_top=False) #Load ResNet50V2 ImageNet pre-trained weights\n",
        "weight_model.save_weights('weights.h5') #Save the weights\n",
        "base_model = ResNet50V2(weights=None, include_top=False, input_tensor=input_tensor) #Load the ResNet50V2 model without weights\n",
        "base_model.load_weights('weights.h5',skip_mismatch=True, by_name=True) #Load the ImageNet weights on the ResNet50V2 model except the first layer(because the first layer has one channel in our case)\n",
        "\n",
        "#Create Feature Pyramid Network (FPN)\n",
        "# We used some help for writing the Pyramid from the written code on https://github.com/fizyr/keras-retinanet/blob/master/keras_retinanet/models/retinanet.py\n",
        "feature_size=512 #Set the feature channels of the FPN\n",
        "layer_names = [\"conv4_block1_preact_relu\", \"conv5_block1_preact_relu\", \"post_relu\"] #Layers of ResNet50V2 with different scale features \n",
        "layer_outputs = [base_model.get_layer(name).output for name in layer_names]\n",
        "C3, C4, C5=layer_outputs #Features of different scales, extracted from ResNet50V2\n",
        "P5           = tensorflow.keras.layers.Conv2D(feature_size, kernel_size=1, strides=1, padding='same', name='C5_reduced')(C5)\n",
        "P5_upsampled = layers.UpsampleLike(name='P5_upsampled')([P5, C4])\n",
        "P5           = tensorflow.keras.layers.Conv2D(feature_size, kernel_size=3, strides=1, padding='same', name='P5')(P5)\n",
        "\n",
        "# Concatenate P5 elementwise to C4\n",
        "P4           = tensorflow.keras.layers.Conv2D(feature_size, kernel_size=1, strides=1, padding='same', name='C4_reduced')(C4)\n",
        "P4           = tensorflow.keras.layers.Concatenate(axis=3)([P5_upsampled, P4])\n",
        "P4_upsampled = layers.UpsampleLike(name='P4_upsampled')([P4, C3])\n",
        "P4           = tensorflow.keras.layers.Conv2D(feature_size, kernel_size=3, strides=1, name='P4')(P4)\n",
        "\n",
        "# Concatenate P4 elementwise to C3\n",
        "P3 = tensorflow.keras.layers.Conv2D(feature_size, kernel_size=1, strides=1, padding='same', name='C3_reduced')(C3)\n",
        "P3 = tensorflow.keras.layers.Concatenate(axis=3)([P4_upsampled, P3])\n",
        "P3 = tensorflow.keras.layers.Conv2D(feature_size, kernel_size=3, strides=1, name='P3')(P3)\n",
        "\n",
        "# \"P6 is obtained via a 3x3 stride-2 conv on C5\"\n",
        "P6 = tensorflow.keras.layers.Conv2D(feature_size, kernel_size=3, strides=2, padding='same', name='P6')(C5)\n",
        "\n",
        "# \"P7 is computed by applying ReLU followed by a 3x3 stride-2 conv on P6\"\n",
        "P7 = tensorflow.keras.layers.Activation('relu', name='C6_relu')(P6)\n",
        "P7 = tensorflow.keras.layers.Conv2D(feature_size, kernel_size=3, strides=2, padding='same', name='P7')(P7)\n",
        "\n",
        "# Run classification for each of the generated features from the pyramid\n",
        "feature1 = Flatten()(P3)\n",
        "dp1 = Dropout(0.5)(feature1)\n",
        "preds1 = Dense(2, activation='relu',kernel_initializer=RandomNormal(mean=0.0, stddev=0.001))(dp1)\n",
        "feature2 = Flatten()(P4)\n",
        "dp2 = Dropout(0.5)(feature2)\n",
        "preds2 = Dense(2, activation='relu',kernel_initializer=RandomNormal(mean=0.0, stddev=0.001))(dp2)\n",
        "#################################################################\n",
        "feature3 = Flatten()(P5)\n",
        "dp3= Dropout(0.5)(feature3)\n",
        "preds3 = Dense(2, activation='relu',kernel_initializer=RandomNormal(mean=0.0, stddev=0.001))(dp3)\n",
        "#################################################################\n",
        "feature4 = Flatten()(P6)\n",
        "dp4 = Dropout(0.5)(feature4)\n",
        "preds4 = Dense(2, activation='relu',kernel_initializer=RandomNormal(mean=0.0, stddev=0.001))(dp4)\n",
        "#################################################################\n",
        "feature5 = Flatten()(P7)\n",
        "dp5 = Dropout(0.5)(feature5)\n",
        "preds5 = Dense(2, activation='relu',kernel_initializer=RandomNormal(mean=0.0, stddev=0.001))(dp5)\n",
        "#################################################################\n",
        "concat=tensorflow.keras.layers.Concatenate(axis=1)([preds1,preds2,preds3,preds4,preds5]) #Concatenate the predictions(Classification results) of each of the pyramid features \n",
        "out=tensorflow.keras.layers.Dense(2,activation='softmax',kernel_initializer=RandomNormal(mean=0.0, stddev=0.001))(concat) #Final Classification\n",
        "\n",
        "model = Model(inputs=base_model.input, outputs=out) #Create the Training Model\n",
        "#######################################################\n",
        "for layer in model.layers:\n",
        "  layer.trainable = True\n",
        "model.compile(optimizer=optimizers.Nadam(lr=0.0001), loss='categorical_crossentropy',metrics=['accuracy',AUC(),Precision(),Recall(),FalsePositives(),TrueNegatives(),TruePositives(),FalseNegatives()])\n",
        "filepath=\"models/%s-{epoch:02d}-{val_accuracy:.4f}.hdf5\"%full_name  # Path to save the trained models\n",
        "checkpoint = ModelCheckpoint(filepath, monitor='val_accuracy', save_best_only=True, mode='max') #creating checkpoint to save the best validation accuracy\n",
        "callbacks_list = [checkpoint]\n",
        "\n",
        "#model.fit(train_batches, epochs=20,validation_data=val_batches,shuffle=True,callbacks=callbacks_list) #start training\n",
        "hist = model.fit(train_batches, validation_data=test_batches , epochs=30,callbacks=callbacks_list)"
      ],
      "execution_count": null,
      "outputs": [
        {
          "output_type": "stream",
          "text": [
            "Downloading data from https://storage.googleapis.com/tensorflow/keras-applications/resnet/resnet50v2_weights_tf_dim_ordering_tf_kernels_notop.h5\n",
            "94674944/94668760 [==============================] - 1s 0us/step\n",
            "94683136/94668760 [==============================] - 1s 0us/step\n"
          ],
          "name": "stdout"
        },
        {
          "output_type": "stream",
          "text": [
            "/usr/local/lib/python3.7/dist-packages/keras/optimizer_v2/optimizer_v2.py:356: UserWarning: The `lr` argument is deprecated, use `learning_rate` instead.\n",
            "  \"The `lr` argument is deprecated, use `learning_rate` instead.\")\n",
            "/usr/local/lib/python3.7/dist-packages/keras_preprocessing/image/image_data_generator.py:720: UserWarning: This ImageDataGenerator specifies `featurewise_center`, but it hasn't been fit on any training data. Fit it first by calling `.fit(numpy_data)`.\n",
            "  warnings.warn('This ImageDataGenerator specifies '\n",
            "/usr/local/lib/python3.7/dist-packages/keras_preprocessing/image/image_data_generator.py:728: UserWarning: This ImageDataGenerator specifies `featurewise_std_normalization`, but it hasn't been fit on any training data. Fit it first by calling `.fit(numpy_data)`.\n",
            "  warnings.warn('This ImageDataGenerator specifies '\n"
          ],
          "name": "stderr"
        },
        {
          "output_type": "stream",
          "text": [
            "Epoch 1/30\n",
            "88/88 [==============================] - 206s 2s/step - loss: 0.6134 - accuracy: 0.6593 - auc: 0.7302 - precision: 0.6593 - recall: 0.6593 - false_positives: 475.0000 - true_negatives: 919.0000 - true_positives: 919.0000 - false_negatives: 475.0000 - val_loss: 0.7635 - val_accuracy: 0.6416 - val_auc: 0.7008 - val_precision: 0.6416 - val_recall: 0.6416 - val_false_positives: 62.0000 - val_true_negatives: 111.0000 - val_true_positives: 111.0000 - val_false_negatives: 62.0000\n"
          ],
          "name": "stdout"
        },
        {
          "output_type": "stream",
          "text": [
            "/usr/local/lib/python3.7/dist-packages/keras/utils/generic_utils.py:497: CustomMaskWarning: Custom mask layers require a config and must override get_config. When loading, the custom mask layer must be passed to the custom_objects argument.\n",
            "  category=CustomMaskWarning)\n"
          ],
          "name": "stderr"
        },
        {
          "output_type": "stream",
          "text": [
            "Epoch 2/30\n",
            "88/88 [==============================] - 166s 2s/step - loss: 0.5180 - accuracy: 0.7511 - auc: 0.8322 - precision: 0.7511 - recall: 0.7511 - false_positives: 347.0000 - true_negatives: 1047.0000 - true_positives: 1047.0000 - false_negatives: 347.0000 - val_loss: 1.3887 - val_accuracy: 0.6821 - val_auc: 0.7576 - val_precision: 0.6821 - val_recall: 0.6821 - val_false_positives: 55.0000 - val_true_negatives: 118.0000 - val_true_positives: 118.0000 - val_false_negatives: 55.0000\n",
            "Epoch 3/30\n",
            "88/88 [==============================] - 166s 2s/step - loss: 0.4970 - accuracy: 0.7747 - auc: 0.8452 - precision: 0.7747 - recall: 0.7747 - false_positives: 314.0000 - true_negatives: 1080.0000 - true_positives: 1080.0000 - false_negatives: 314.0000 - val_loss: 0.8240 - val_accuracy: 0.7457 - val_auc: 0.7782 - val_precision: 0.7457 - val_recall: 0.7457 - val_false_positives: 44.0000 - val_true_negatives: 129.0000 - val_true_positives: 129.0000 - val_false_negatives: 44.0000\n",
            "Epoch 4/30\n",
            "88/88 [==============================] - 165s 2s/step - loss: 0.4751 - accuracy: 0.7690 - auc: 0.8558 - precision: 0.7690 - recall: 0.7690 - false_positives: 322.0000 - true_negatives: 1072.0000 - true_positives: 1072.0000 - false_negatives: 322.0000 - val_loss: 0.5706 - val_accuracy: 0.7399 - val_auc: 0.8151 - val_precision: 0.7399 - val_recall: 0.7399 - val_false_positives: 45.0000 - val_true_negatives: 128.0000 - val_true_positives: 128.0000 - val_false_negatives: 45.0000\n",
            "Epoch 5/30\n",
            "88/88 [==============================] - 165s 2s/step - loss: 0.4829 - accuracy: 0.7704 - auc: 0.8497 - precision: 0.7704 - recall: 0.7704 - false_positives: 320.0000 - true_negatives: 1074.0000 - true_positives: 1074.0000 - false_negatives: 320.0000 - val_loss: 0.5687 - val_accuracy: 0.7341 - val_auc: 0.8346 - val_precision: 0.7341 - val_recall: 0.7341 - val_false_positives: 46.0000 - val_true_negatives: 127.0000 - val_true_positives: 127.0000 - val_false_negatives: 46.0000\n",
            "Epoch 6/30\n",
            "88/88 [==============================] - 164s 2s/step - loss: 0.4773 - accuracy: 0.7647 - auc: 0.8491 - precision: 0.7647 - recall: 0.7647 - false_positives: 328.0000 - true_negatives: 1066.0000 - true_positives: 1066.0000 - false_negatives: 328.0000 - val_loss: 0.5205 - val_accuracy: 0.7630 - val_auc: 0.8326 - val_precision: 0.7630 - val_recall: 0.7630 - val_false_positives: 41.0000 - val_true_negatives: 132.0000 - val_true_positives: 132.0000 - val_false_negatives: 41.0000\n",
            "Epoch 7/30\n",
            "88/88 [==============================] - 165s 2s/step - loss: 0.4415 - accuracy: 0.7956 - auc: 0.8769 - precision: 0.7956 - recall: 0.7956 - false_positives: 285.0000 - true_negatives: 1109.0000 - true_positives: 1109.0000 - false_negatives: 285.0000 - val_loss: 0.4709 - val_accuracy: 0.7977 - val_auc: 0.8642 - val_precision: 0.7977 - val_recall: 0.7977 - val_false_positives: 35.0000 - val_true_negatives: 138.0000 - val_true_positives: 138.0000 - val_false_negatives: 35.0000\n",
            "Epoch 8/30\n",
            "88/88 [==============================] - 163s 2s/step - loss: 0.4536 - accuracy: 0.7848 - auc: 0.8697 - precision: 0.7848 - recall: 0.7848 - false_positives: 300.0000 - true_negatives: 1094.0000 - true_positives: 1094.0000 - false_negatives: 300.0000 - val_loss: 0.4486 - val_accuracy: 0.7803 - val_auc: 0.8673 - val_precision: 0.7803 - val_recall: 0.7803 - val_false_positives: 38.0000 - val_true_negatives: 135.0000 - val_true_positives: 135.0000 - val_false_negatives: 38.0000\n",
            "Epoch 9/30\n",
            "88/88 [==============================] - 163s 2s/step - loss: 0.4154 - accuracy: 0.8034 - auc: 0.8921 - precision: 0.8034 - recall: 0.8034 - false_positives: 274.0000 - true_negatives: 1120.0000 - true_positives: 1120.0000 - false_negatives: 274.0000 - val_loss: 0.4738 - val_accuracy: 0.7688 - val_auc: 0.8678 - val_precision: 0.7688 - val_recall: 0.7688 - val_false_positives: 40.0000 - val_true_negatives: 133.0000 - val_true_positives: 133.0000 - val_false_negatives: 40.0000\n",
            "Epoch 10/30\n",
            "88/88 [==============================] - 161s 2s/step - loss: 0.4293 - accuracy: 0.8034 - auc: 0.8853 - precision: 0.8034 - recall: 0.8034 - false_positives: 274.0000 - true_negatives: 1120.0000 - true_positives: 1120.0000 - false_negatives: 274.0000 - val_loss: 0.4878 - val_accuracy: 0.7572 - val_auc: 0.8470 - val_precision: 0.7572 - val_recall: 0.7572 - val_false_positives: 42.0000 - val_true_negatives: 131.0000 - val_true_positives: 131.0000 - val_false_negatives: 42.0000\n",
            "Epoch 11/30\n",
            "88/88 [==============================] - 163s 2s/step - loss: 0.4075 - accuracy: 0.8171 - auc: 0.8954 - precision: 0.8171 - recall: 0.8171 - false_positives: 255.0000 - true_negatives: 1139.0000 - true_positives: 1139.0000 - false_negatives: 255.0000 - val_loss: 0.4840 - val_accuracy: 0.7746 - val_auc: 0.8500 - val_precision: 0.7746 - val_recall: 0.7746 - val_false_positives: 39.0000 - val_true_negatives: 134.0000 - val_true_positives: 134.0000 - val_false_negatives: 39.0000\n",
            "Epoch 12/30\n",
            "88/88 [==============================] - 161s 2s/step - loss: 0.4044 - accuracy: 0.8128 - auc: 0.8963 - precision: 0.8128 - recall: 0.8128 - false_positives: 261.0000 - true_negatives: 1133.0000 - true_positives: 1133.0000 - false_negatives: 261.0000 - val_loss: 0.4954 - val_accuracy: 0.7630 - val_auc: 0.8492 - val_precision: 0.7630 - val_recall: 0.7630 - val_false_positives: 41.0000 - val_true_negatives: 132.0000 - val_true_positives: 132.0000 - val_false_negatives: 41.0000\n",
            "Epoch 13/30\n",
            "88/88 [==============================] - 161s 2s/step - loss: 0.3995 - accuracy: 0.8085 - auc: 0.8987 - precision: 0.8085 - recall: 0.8085 - false_positives: 267.0000 - true_negatives: 1127.0000 - true_positives: 1127.0000 - false_negatives: 267.0000 - val_loss: 0.5480 - val_accuracy: 0.7399 - val_auc: 0.8378 - val_precision: 0.7399 - val_recall: 0.7399 - val_false_positives: 45.0000 - val_true_negatives: 128.0000 - val_true_positives: 128.0000 - val_false_negatives: 45.0000\n",
            "Epoch 14/30\n",
            "88/88 [==============================] - 161s 2s/step - loss: 0.4097 - accuracy: 0.8207 - auc: 0.8967 - precision: 0.8207 - recall: 0.8207 - false_positives: 250.0000 - true_negatives: 1144.0000 - true_positives: 1144.0000 - false_negatives: 250.0000 - val_loss: 0.4869 - val_accuracy: 0.8035 - val_auc: 0.8742 - val_precision: 0.8035 - val_recall: 0.8035 - val_false_positives: 34.0000 - val_true_negatives: 139.0000 - val_true_positives: 139.0000 - val_false_negatives: 34.0000\n",
            "Epoch 15/30\n",
            "88/88 [==============================] - 161s 2s/step - loss: 0.4038 - accuracy: 0.8099 - auc: 0.8970 - precision: 0.8099 - recall: 0.8099 - false_positives: 265.0000 - true_negatives: 1129.0000 - true_positives: 1129.0000 - false_negatives: 265.0000 - val_loss: 0.4831 - val_accuracy: 0.7341 - val_auc: 0.8386 - val_precision: 0.7341 - val_recall: 0.7341 - val_false_positives: 46.0000 - val_true_negatives: 127.0000 - val_true_positives: 127.0000 - val_false_negatives: 46.0000\n",
            "Epoch 16/30\n",
            "88/88 [==============================] - 161s 2s/step - loss: 0.3713 - accuracy: 0.8221 - auc: 0.9143 - precision: 0.8221 - recall: 0.8221 - false_positives: 248.0000 - true_negatives: 1146.0000 - true_positives: 1146.0000 - false_negatives: 248.0000 - val_loss: 0.6999 - val_accuracy: 0.6879 - val_auc: 0.7468 - val_precision: 0.6879 - val_recall: 0.6879 - val_false_positives: 54.0000 - val_true_negatives: 119.0000 - val_true_positives: 119.0000 - val_false_negatives: 54.0000\n",
            "Epoch 17/30\n",
            "88/88 [==============================] - 160s 2s/step - loss: 0.3914 - accuracy: 0.8192 - auc: 0.9065 - precision: 0.8192 - recall: 0.8192 - false_positives: 252.0000 - true_negatives: 1142.0000 - true_positives: 1142.0000 - false_negatives: 252.0000 - val_loss: 0.4956 - val_accuracy: 0.7919 - val_auc: 0.8728 - val_precision: 0.7919 - val_recall: 0.7919 - val_false_positives: 36.0000 - val_true_negatives: 137.0000 - val_true_positives: 137.0000 - val_false_negatives: 36.0000\n",
            "Epoch 18/30\n",
            "88/88 [==============================] - 161s 2s/step - loss: 0.3729 - accuracy: 0.8350 - auc: 0.9126 - precision: 0.8350 - recall: 0.8350 - false_positives: 230.0000 - true_negatives: 1164.0000 - true_positives: 1164.0000 - false_negatives: 230.0000 - val_loss: 0.4988 - val_accuracy: 0.7861 - val_auc: 0.8480 - val_precision: 0.7861 - val_recall: 0.7861 - val_false_positives: 37.0000 - val_true_negatives: 136.0000 - val_true_positives: 136.0000 - val_false_negatives: 37.0000\n",
            "Epoch 19/30\n",
            "88/88 [==============================] - 161s 2s/step - loss: 0.3849 - accuracy: 0.8264 - auc: 0.9076 - precision: 0.8264 - recall: 0.8264 - false_positives: 242.0000 - true_negatives: 1152.0000 - true_positives: 1152.0000 - false_negatives: 242.0000 - val_loss: 0.4509 - val_accuracy: 0.7746 - val_auc: 0.8678 - val_precision: 0.7746 - val_recall: 0.7746 - val_false_positives: 39.0000 - val_true_negatives: 134.0000 - val_true_positives: 134.0000 - val_false_negatives: 39.0000\n",
            "Epoch 20/30\n",
            "88/88 [==============================] - 161s 2s/step - loss: 0.3571 - accuracy: 0.8458 - auc: 0.9219 - precision: 0.8458 - recall: 0.8458 - false_positives: 215.0000 - true_negatives: 1179.0000 - true_positives: 1179.0000 - false_negatives: 215.0000 - val_loss: 0.4059 - val_accuracy: 0.8382 - val_auc: 0.8943 - val_precision: 0.8382 - val_recall: 0.8382 - val_false_positives: 28.0000 - val_true_negatives: 145.0000 - val_true_positives: 145.0000 - val_false_negatives: 28.0000\n",
            "Epoch 21/30\n",
            "88/88 [==============================] - 167s 2s/step - loss: 0.3273 - accuracy: 0.8601 - auc: 0.9341 - precision: 0.8601 - recall: 0.8601 - false_positives: 195.0000 - true_negatives: 1199.0000 - true_positives: 1199.0000 - false_negatives: 195.0000 - val_loss: 0.4546 - val_accuracy: 0.8035 - val_auc: 0.8798 - val_precision: 0.8035 - val_recall: 0.8035 - val_false_positives: 34.0000 - val_true_negatives: 139.0000 - val_true_positives: 139.0000 - val_false_negatives: 34.0000\n",
            "Epoch 22/30\n",
            "88/88 [==============================] - 164s 2s/step - loss: 0.3484 - accuracy: 0.8515 - auc: 0.9245 - precision: 0.8515 - recall: 0.8515 - false_positives: 207.0000 - true_negatives: 1187.0000 - true_positives: 1187.0000 - false_negatives: 207.0000 - val_loss: 0.5200 - val_accuracy: 0.7688 - val_auc: 0.8361 - val_precision: 0.7688 - val_recall: 0.7688 - val_false_positives: 40.0000 - val_true_negatives: 133.0000 - val_true_positives: 133.0000 - val_false_negatives: 40.0000\n",
            "Epoch 23/30\n",
            "88/88 [==============================] - 164s 2s/step - loss: 0.3337 - accuracy: 0.8472 - auc: 0.9311 - precision: 0.8472 - recall: 0.8472 - false_positives: 213.0000 - true_negatives: 1181.0000 - true_positives: 1181.0000 - false_negatives: 213.0000 - val_loss: 0.4351 - val_accuracy: 0.8324 - val_auc: 0.8879 - val_precision: 0.8324 - val_recall: 0.8324 - val_false_positives: 29.0000 - val_true_negatives: 144.0000 - val_true_positives: 144.0000 - val_false_negatives: 29.0000\n",
            "Epoch 24/30\n",
            "88/88 [==============================] - 164s 2s/step - loss: 0.3369 - accuracy: 0.8630 - auc: 0.9294 - precision: 0.8630 - recall: 0.8630 - false_positives: 191.0000 - true_negatives: 1203.0000 - true_positives: 1203.0000 - false_negatives: 191.0000 - val_loss: 0.5990 - val_accuracy: 0.7861 - val_auc: 0.8301 - val_precision: 0.7861 - val_recall: 0.7861 - val_false_positives: 37.0000 - val_true_negatives: 136.0000 - val_true_positives: 136.0000 - val_false_negatives: 37.0000\n",
            "Epoch 25/30\n",
            "88/88 [==============================] - 162s 2s/step - loss: 0.2934 - accuracy: 0.8737 - auc: 0.9467 - precision: 0.8737 - recall: 0.8737 - false_positives: 176.0000 - true_negatives: 1218.0000 - true_positives: 1218.0000 - false_negatives: 176.0000 - val_loss: 0.5435 - val_accuracy: 0.7861 - val_auc: 0.8494 - val_precision: 0.7861 - val_recall: 0.7861 - val_false_positives: 37.0000 - val_true_negatives: 136.0000 - val_true_positives: 136.0000 - val_false_negatives: 37.0000\n",
            "Epoch 26/30\n",
            "88/88 [==============================] - 162s 2s/step - loss: 0.3223 - accuracy: 0.8501 - auc: 0.9363 - precision: 0.8501 - recall: 0.8501 - false_positives: 209.0000 - true_negatives: 1185.0000 - true_positives: 1185.0000 - false_negatives: 209.0000 - val_loss: 0.4620 - val_accuracy: 0.8382 - val_auc: 0.8676 - val_precision: 0.8382 - val_recall: 0.8382 - val_false_positives: 28.0000 - val_true_negatives: 145.0000 - val_true_positives: 145.0000 - val_false_negatives: 28.0000\n",
            "Epoch 27/30\n",
            "88/88 [==============================] - 163s 2s/step - loss: 0.4030 - accuracy: 0.8056 - auc: 0.8959 - precision: 0.8056 - recall: 0.8056 - false_positives: 271.0000 - true_negatives: 1123.0000 - true_positives: 1123.0000 - false_negatives: 271.0000 - val_loss: 0.5133 - val_accuracy: 0.7514 - val_auc: 0.8465 - val_precision: 0.7514 - val_recall: 0.7514 - val_false_positives: 43.0000 - val_true_negatives: 130.0000 - val_true_positives: 130.0000 - val_false_negatives: 43.0000\n",
            "Epoch 28/30\n",
            "88/88 [==============================] - 161s 2s/step - loss: 0.3444 - accuracy: 0.8357 - auc: 0.9263 - precision: 0.8357 - recall: 0.8357 - false_positives: 229.0000 - true_negatives: 1165.0000 - true_positives: 1165.0000 - false_negatives: 229.0000 - val_loss: 0.5099 - val_accuracy: 0.7572 - val_auc: 0.8642 - val_precision: 0.7572 - val_recall: 0.7572 - val_false_positives: 42.0000 - val_true_negatives: 131.0000 - val_true_positives: 131.0000 - val_false_negatives: 42.0000\n",
            "Epoch 29/30\n",
            "88/88 [==============================] - 161s 2s/step - loss: 0.3208 - accuracy: 0.8594 - auc: 0.9365 - precision: 0.8594 - recall: 0.8594 - false_positives: 196.0000 - true_negatives: 1198.0000 - true_positives: 1198.0000 - false_negatives: 196.0000 - val_loss: 0.4810 - val_accuracy: 0.7977 - val_auc: 0.8735 - val_precision: 0.7977 - val_recall: 0.7977 - val_false_positives: 35.0000 - val_true_negatives: 138.0000 - val_true_positives: 138.0000 - val_false_negatives: 35.0000\n",
            "Epoch 30/30\n",
            "88/88 [==============================] - 161s 2s/step - loss: 0.2746 - accuracy: 0.8780 - auc: 0.9538 - precision: 0.8780 - recall: 0.8780 - false_positives: 170.0000 - true_negatives: 1224.0000 - true_positives: 1224.0000 - false_negatives: 170.0000 - val_loss: 0.6658 - val_accuracy: 0.7341 - val_auc: 0.8202 - val_precision: 0.7341 - val_recall: 0.7341 - val_false_positives: 46.0000 - val_true_negatives: 127.0000 - val_true_positives: 127.0000 - val_false_negatives: 46.0000\n"
          ],
          "name": "stdout"
        }
      ]
    },
    {
      "cell_type": "code",
      "metadata": {
        "id": "RG-fcbKdJAO7"
      },
      "source": [
        "model.summary()"
      ],
      "execution_count": null,
      "outputs": []
    },
    {
      "cell_type": "code",
      "metadata": {
        "id": "GgQD2ykNRV0J"
      },
      "source": [
        "layer_names = [\"conv4_block1_preact_relu\", \"conv5_block1_preact_relu\", \"post_relu\"] #Layers of ResNet50V2 with different scale features \n",
        "layer_outputs = [base_model.get_layer(name).output for name in layer_names]\n",
        "C3, C4, C5=layer_outputs #Features of different scales, extracted from ResNet50V2\n",
        "P5           = tensorflow.keras.layers.Conv2D(feature_size, kernel_size=1, strides=1, padding='same', name='C5_reduced')(C5)\n",
        "P5_upsampled = UpsampleLike([P5, C4])"
      ],
      "execution_count": null,
      "outputs": []
    },
    {
      "cell_type": "code",
      "metadata": {
        "id": "YxSR0DZ9RYG2"
      },
      "source": [
        "P5"
      ],
      "execution_count": null,
      "outputs": []
    },
    {
      "cell_type": "code",
      "metadata": {
        "id": "0hbBa5bSqyca"
      },
      "source": [
        "x = Flatten()(model.layers[-100].output)\n",
        "x=Dense(units=1024)(x)\n",
        "output = Dense(units=2, activation=\"sigmoid\")(x)\n",
        "model = Model(inputs = model.input, outputs = output)"
      ],
      "execution_count": null,
      "outputs": []
    },
    {
      "cell_type": "code",
      "metadata": {
        "id": "hc2L7YLDT9Cu"
      },
      "source": [
        "initial_lrate = 0.0000001\n",
        "def decay(epoch, steps=10):\n",
        "    initial_lrate = 0.000008\n",
        "    drop = 0.96\n",
        "    epochs_drop = 8\n",
        "    lrate = initial_lrate * math.pow(drop, math.floor((1+epoch)/epochs_drop))\n",
        "    return lrate\n",
        "opt = RMSprop(lr=initial_lrate)\n",
        "lr_sc = LearningRateScheduler(decay, verbose=1)\n",
        "model.compile(optimizer=opt,\n",
        "              loss=tf.tensorflow.keras.losses.binary_crossentropy,\n",
        "              metrics=['accuracy',AUC(),Precision(),Recall(),FalsePositives(),TrueNegatives(),TruePositives(),FalseNegatives()])"
      ],
      "execution_count": null,
      "outputs": []
    },
    {
      "cell_type": "code",
      "metadata": {
        "id": "zm0wpyvFUBGD"
      },
      "source": [
        "checkpoint = ModelCheckpoint(\"with_chmod_100_spatial.h5\", monitor='val_accuracy', verbose=1, save_best_only=True, save_weights_only=True, mode='auto', period=1)\n",
        "early = EarlyStopping(monitor='val_loss', min_delta=0, verbose=1, mode='auto',patience=25)\n",
        "callback = [checkpoint,early]\n",
        "hist = model.fit(train_batches, validation_data=test_batches , epochs=epoch,callbacks=callback)"
      ],
      "execution_count": null,
      "outputs": []
    },
    {
      "cell_type": "code",
      "metadata": {
        "id": "9Lrs2l5aUEmh"
      },
      "source": [
        "plt.plot(hist.history['accuracy'])\n",
        "plt.plot(hist.history['val_accuracy'])\n",
        "plt.title(\"model accuracy\")\n",
        "plt.ylabel(\"Accuracy\")\n",
        "plt.xlabel(\"Epoch\")\n",
        "plt.show()"
      ],
      "execution_count": null,
      "outputs": []
    },
    {
      "cell_type": "code",
      "metadata": {
        "id": "yk3veaZFbD8y"
      },
      "source": [
        "plt.plot(hist.history['loss'])\n",
        "plt.plot(hist.history['val_loss'])\n",
        "plt.title(\"model loss\")\n",
        "plt.ylabel(\"loss\")\n",
        "plt.xlabel(\"Epoch\")\n",
        "plt.show()"
      ],
      "execution_count": null,
      "outputs": []
    },
    {
      "cell_type": "code",
      "metadata": {
        "id": "jMLGHnHmOu3N"
      },
      "source": [
        "def plot_confusion_matrix(cm, classes, normalize=True, title='Confusion matrix', cmap=plt.cm.Blues):\n",
        "\n",
        "    \"\"\"\n",
        "\n",
        "    This function prints and plots the confusion matrix.\n",
        "\n",
        "    Normalization can be applied by setting `normalize=True`.\n",
        "\n",
        "    \"\"\"\n",
        "\n",
        "    plt.figure(figsize=(10,10))\n",
        "\n",
        "\n",
        "\n",
        "    plt.imshow(cm, interpolation='nearest', cmap=cmap)\n",
        "\n",
        "    plt.title(title)\n",
        "\n",
        "    plt.colorbar()\n",
        "\n",
        "\n",
        "\n",
        "    tick_marks = np.arange(len(classes))\n",
        "\n",
        "    plt.xticks(tick_marks, classes, rotation=45)\n",
        "\n",
        "    plt.yticks(tick_marks, classes)\n",
        "\n",
        "\n",
        "\n",
        "    if normalize:\n",
        "\n",
        "        cm = cm.astype('float') / cm.sum(axis=1)[:, np.newaxis]\n",
        "\n",
        "        cm = np.around(cm, decimals=2)\n",
        "\n",
        "        cm[np.isnan(cm)] = 0.0\n",
        "\n",
        "        print(\"Normalized confusion matrix\")\n",
        "\n",
        "    else:\n",
        "\n",
        "        print('Confusion matrix, without normalization')\n",
        "\n",
        "    thresh = cm.max() / 2.\n",
        "\n",
        "    for i, j in itertools.product(range(cm.shape[0]), range(cm.shape[1])):\n",
        "\n",
        "        plt.text(j, i, cm[i, j],\n",
        "\n",
        "                 horizontalalignment=\"center\",\n",
        "\n",
        "                 color=\"white\" if cm[i, j] > thresh else \"black\")\n",
        "\n",
        "    plt.tight_layout()\n",
        "\n",
        "    plt.ylabel('True label')\n",
        "\n",
        "    plt.xlabel('Predicted label')"
      ],
      "execution_count": null,
      "outputs": []
    },
    {
      "cell_type": "code",
      "metadata": {
        "id": "yZfLDTyBPcof"
      },
      "source": [
        "target_names = []\n",
        "\n",
        "for key in train_batches.class_indices:\n",
        "\n",
        "    target_names.append(key)"
      ],
      "execution_count": null,
      "outputs": []
    },
    {
      "cell_type": "code",
      "metadata": {
        "colab": {
          "base_uri": "https://localhost:8080/",
          "height": 816
        },
        "id": "e5zA1TNhOvFF",
        "outputId": "3e04b266-899b-4e38-84bf-3bde13d970bc"
      },
      "source": [
        "Y_pred = model.predict_generator(test_batches)\n",
        "\n",
        "y_pred = np.argmax(Y_pred, axis=1)\n",
        "\n",
        "print('Confusion Matrix')\n",
        "\n",
        "cm = confusion_matrix(test_batches.classes, y_pred)\n",
        "\n",
        "plot_confusion_matrix(cm, target_names, title='Confusion Matrix')"
      ],
      "execution_count": null,
      "outputs": [
        {
          "output_type": "stream",
          "text": [
            "/usr/local/lib/python3.7/dist-packages/keras/engine/training.py:2035: UserWarning: `Model.predict_generator` is deprecated and will be removed in a future version. Please use `Model.predict`, which supports generators.\n",
            "  warnings.warn('`Model.predict_generator` is deprecated and '\n"
          ],
          "name": "stderr"
        },
        {
          "output_type": "stream",
          "text": [
            "Confusion Matrix\n",
            "Normalized confusion matrix\n"
          ],
          "name": "stdout"
        },
        {
          "output_type": "display_data",
          "data": {
            "image/png": "[encoded data removed]",
            "text/plain": [
              "<Figure size 720x720 with 2 Axes>"
            ]
          },
          "metadata": {
            "needs_background": "light"
          }
        }
      ]
    },
    {
      "cell_type": "code",
      "metadata": {
        "id": "qrfl_yEsOvOd"
      },
      "source": [
        ""
      ],
      "execution_count": null,
      "outputs": []
    },
    {
      "cell_type": "code",
      "metadata": {
        "id": "cnGVlZoKe9GP"
      },
      "source": [
        "model.load_weights('/content/models/ResNet50V2-FPN-fold1-20-0.8382.hdf5')"
      ],
      "execution_count": null,
      "outputs": []
    },
    {
      "cell_type": "code",
      "metadata": {
        "id": "VoUNPIp8fDhX"
      },
      "source": [
        "model_metrics = model.evaluate(test_batches,verbose=0)"
      ],
      "execution_count": null,
      "outputs": []
    },
    {
      "cell_type": "code",
      "metadata": {
        "id": "tqGcn9vMfESf"
      },
      "source": [
        "f1_score = 2*( (model_metrics[3]*model_metrics[4]) / (model_metrics[3]+model_metrics[4]) )"
      ],
      "execution_count": null,
      "outputs": []
    },
    {
      "cell_type": "code",
      "metadata": {
        "colab": {
          "base_uri": "https://localhost:8080/"
        },
        "id": "xMVKmFDIfJao",
        "outputId": "9bebf0c5-9599-4d9f-a19f-98bf4fe8dcc8"
      },
      "source": [
        "print(f\"Accuracy on test set: {round(model_metrics[1]*100,2)}%\")\n",
        "print(f\"ROC(Receiver Operation Characteristic) AUC(Area Under Curve): {model_metrics[2]}\")\n",
        "print(f\"Precision: {round(model_metrics[3]*100,2)}%\")\n",
        "print(f\"Recall: {round(model_metrics[4]*100,2)}%\")\n",
        "print(f\"F1-score: {f1_score}\")\n",
        "print(f\"Specificity: {(model_metrics[6])/(model_metrics[6]+model_metrics[5])}\")"
      ],
      "execution_count": null,
      "outputs": [
        {
          "output_type": "stream",
          "text": [
            "Accuracy on test set: 83.82%\n",
            "ROC(Receiver Operation Characteristic) AUC(Area Under Curve): 0.894316554069519\n",
            "Precision: 83.82%\n",
            "Recall: 83.82%\n",
            "F1-score: 0.8381502628326416\n",
            "Specificity: 0.838150289017341\n"
          ],
          "name": "stdout"
        }
      ]
    },
    {
      "cell_type": "code",
      "metadata": {
        "id": "1pEJqfvyfUAB"
      },
      "source": [
        ""
      ],
      "execution_count": null,
      "outputs": []
    }
  ]
}
